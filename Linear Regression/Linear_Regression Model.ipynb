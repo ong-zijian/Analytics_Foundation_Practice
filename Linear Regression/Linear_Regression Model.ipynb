{
 "cells": [
  {
   "cell_type": "markdown",
   "id": "cd23a911",
   "metadata": {},
   "source": [
    "## Linear Regression\n",
    "Here, we used a sample data that we generated to create a linear regression and train the model with. We evaluated the model with the RMSE and R_squared and used the residuals to analyse our model"
   ]
  },
  {
   "cell_type": "code",
   "execution_count": 3,
   "id": "21532705",
   "metadata": {},
   "outputs": [],
   "source": [
    "# import the modules\n",
    "import pandas as pd\n",
    "import numpy as np\n",
    "import seaborn as sns\n",
    "import matplotlib.pyplot as plt\n",
    "%matplotlib inline\n",
    "from sklearn.model_selection import train_test_split\n",
    "from sklearn.linear_model import LinearRegression"
   ]
  },
  {
   "cell_type": "code",
   "execution_count": 4,
   "id": "dcd1a6a9",
   "metadata": {},
   "outputs": [
    {
     "data": {
      "text/html": [
       "<div>\n",
       "<style scoped>\n",
       "    .dataframe tbody tr th:only-of-type {\n",
       "        vertical-align: middle;\n",
       "    }\n",
       "\n",
       "    .dataframe tbody tr th {\n",
       "        vertical-align: top;\n",
       "    }\n",
       "\n",
       "    .dataframe thead th {\n",
       "        text-align: right;\n",
       "    }\n",
       "</style>\n",
       "<table border=\"1\" class=\"dataframe\">\n",
       "  <thead>\n",
       "    <tr style=\"text-align: right;\">\n",
       "      <th></th>\n",
       "      <th>id</th>\n",
       "      <th>name</th>\n",
       "      <th>weather</th>\n",
       "      <th>ramen</th>\n",
       "      <th>drinks</th>\n",
       "      <th>day</th>\n",
       "    </tr>\n",
       "  </thead>\n",
       "  <tbody>\n",
       "    <tr>\n",
       "      <th>0</th>\n",
       "      <td>87</td>\n",
       "      <td>Natalie Kim</td>\n",
       "      <td>1</td>\n",
       "      <td>1</td>\n",
       "      <td>1</td>\n",
       "      <td>0</td>\n",
       "    </tr>\n",
       "    <tr>\n",
       "      <th>1</th>\n",
       "      <td>75</td>\n",
       "      <td>Stacey Nguyen</td>\n",
       "      <td>5</td>\n",
       "      <td>6</td>\n",
       "      <td>6</td>\n",
       "      <td>6</td>\n",
       "    </tr>\n",
       "    <tr>\n",
       "      <th>2</th>\n",
       "      <td>55</td>\n",
       "      <td>Phillip Martinez</td>\n",
       "      <td>4</td>\n",
       "      <td>4</td>\n",
       "      <td>4</td>\n",
       "      <td>1</td>\n",
       "    </tr>\n",
       "    <tr>\n",
       "      <th>3</th>\n",
       "      <td>45</td>\n",
       "      <td>Adam Morton</td>\n",
       "      <td>5</td>\n",
       "      <td>6</td>\n",
       "      <td>6</td>\n",
       "      <td>1</td>\n",
       "    </tr>\n",
       "    <tr>\n",
       "      <th>4</th>\n",
       "      <td>8</td>\n",
       "      <td>Brian Patel</td>\n",
       "      <td>2</td>\n",
       "      <td>3</td>\n",
       "      <td>3</td>\n",
       "      <td>3</td>\n",
       "    </tr>\n",
       "  </tbody>\n",
       "</table>\n",
       "</div>"
      ],
      "text/plain": [
       "   id              name  weather  ramen  drinks  day\n",
       "0  87       Natalie Kim        1      1       1    0\n",
       "1  75     Stacey Nguyen        5      6       6    6\n",
       "2  55  Phillip Martinez        4      4       4    1\n",
       "3  45       Adam Morton        5      6       6    1\n",
       "4   8       Brian Patel        2      3       3    3"
      ]
     },
     "execution_count": 4,
     "metadata": {},
     "output_type": "execute_result"
    }
   ],
   "source": [
    "df2 = pd.read_csv('data.csv')\n",
    "df2.head()"
   ]
  },
  {
   "cell_type": "code",
   "execution_count": 5,
   "id": "29fabd48",
   "metadata": {
    "id": "29fabd48"
   },
   "outputs": [],
   "source": [
    "X = df2[['day' , 'weather']]\n",
    "y = df2[\"ramen\"]\n",
    "\n",
    "X_train, X_test, y_train, y_test = train_test_split(X, y, test_size = 0.3, random_state = 24)\n",
    "\n",
    "lm = LinearRegression()\n",
    "\n",
    "lm.fit(X_train, y_train)\n",
    "\n",
    "y_pred = lm.predict(X_test)\n",
    "\n",
    "y_actual = y_test.to_numpy()"
   ]
  },
  {
   "cell_type": "code",
   "execution_count": 6,
   "id": "01187dfc",
   "metadata": {
    "colab": {
     "base_uri": "https://localhost:8080/"
    },
    "id": "01187dfc",
    "outputId": "9ea3d469-2754-4f1c-a29a-00dd67561954"
   },
   "outputs": [
    {
     "data": {
      "text/plain": [
       "0.7813661772461882"
      ]
     },
     "execution_count": 6,
     "metadata": {},
     "output_type": "execute_result"
    }
   ],
   "source": [
    "### RMSE and R Squared ###\n",
    "# Import libraries to use RMSE and r-squared metrics\n",
    "from sklearn.metrics import mean_squared_error\n",
    "from sklearn.metrics import r2_score\n",
    "\n",
    "# Calculate RMSE (a measure of how spread out the errors are)\n",
    "mse = mean_squared_error(y_test, y_pred)\n",
    "rmse = np.sqrt(mse)\n",
    "rmse\n",
    "\n",
    "# Show average y-value in the actual data\n",
    "y_test.mean()\n",
    "\n",
    "# Show R-squared (a measure of how the linear regression model estimates the actual points in the dataset)\n",
    "r_squared = r2_score(y_test, y_pred)\n",
    "r_squared"
   ]
  },
  {
   "cell_type": "code",
   "execution_count": 7,
   "id": "067fcced",
   "metadata": {},
   "outputs": [
    {
     "data": {
      "text/plain": [
       "Text(0, 0.5, 'residuals')"
      ]
     },
     "execution_count": 7,
     "metadata": {},
     "output_type": "execute_result"
    },
    {
     "data": {
      "image/png": "[encoded data removed]",
      "text/plain": [
       "<Figure size 432x288 with 1 Axes>"
      ]
     },
     "metadata": {
      "needs_background": "light"
     },
     "output_type": "display_data"
    }
   ],
   "source": [
    "# Use the linear regression to predict the y-values for the x-values in the test set\n",
    "y_pred = lm.predict(X_test)\n",
    "\n",
    "# Create a DataFrame of the points on the linear regression line\n",
    "results = pd.DataFrame({'Actual': y_test, 'Predicted': y_pred})\n",
    "\n",
    "# Calculate the residuals,\n",
    "# i.e. the differences in y-values between the actual points in the dataset, and the points on linear regression line\n",
    "results['residuals'] = results['Actual'] - results['Predicted']\n",
    "\n",
    "# Create a scatter plot of predicted price (x-axis) vs residuals (y-axis)\n",
    "plt.scatter(results['Predicted'], results['residuals'],  color='blue')\n",
    "plt.xlabel(\"predicted price\")\n",
    "plt.ylabel(\"residuals\")"
   ]
  },
  {
   "cell_type": "markdown",
   "id": "fb06f6ea",
   "metadata": {},
   "source": [
    "### Understanding the data\n",
    "From the residual plot and the r_squared value, the relationship lies with the weather and day. The r_squared is a respectable 0.78 and the residuals scatter plot is randomised.\n",
    "\n",
    "Weekends warrant more customers to patronise as they are free to travel there. The weather plays an effect as customers would think about eating a soup based dish for their meals. \n",
    "\n",
    "The time is ommited as it does not have much relationship for this scenario. We are capturing the orders one by one and time is better captured when group with day or date. We can generalise the timing with the popular times API to get the popular timing. "
   ]
  },
  {
   "cell_type": "code",
   "execution_count": 8,
   "id": "5a97de44",
   "metadata": {},
   "outputs": [
    {
     "data": {
      "text/plain": [
       "(array([ 4.,  3.,  7.,  5.,  6., 28., 25., 40., 15., 17.]),\n",
       " array([-3.08147077, -2.61895876, -2.15644674, -1.69393472, -1.23142271,\n",
       "        -0.76891069, -0.30639867,  0.15611334,  0.61862536,  1.08113738,\n",
       "         1.54364939]),\n",
       " <BarContainer object of 10 artists>)"
      ]
     },
     "execution_count": 8,
     "metadata": {},
     "output_type": "execute_result"
    },
    {
     "data": {
      "image/png": "[encoded data removed]",
      "text/plain": [
       "<Figure size 432x288 with 1 Axes>"
      ]
     },
     "metadata": {
      "needs_background": "light"
     },
     "output_type": "display_data"
    }
   ],
   "source": [
    "# Show histogram of residuals\n",
    "plt.hist(results['residuals'])"
   ]
  },
  {
   "cell_type": "markdown",
   "id": "9d9cec21",
   "metadata": {},
   "source": [
    "The data right now is left skewed indicating that either the model may not be appropriate or the data has some bias. We believe with more accurate data, we would get less skew in the residual plot."
   ]
  },
  {
   "cell_type": "code",
   "execution_count": 9,
   "id": "4bf817ef",
   "metadata": {
    "scrolled": true
   },
   "outputs": [
    {
     "data": {
      "text/plain": [
       "<matplotlib.collections.PathCollection at 0x180f19f5d90>"
      ]
     },
     "execution_count": 9,
     "metadata": {},
     "output_type": "execute_result"
    },
    {
     "data": {
      "image/png": "[encoded data removed]",
      "text/plain": [
       "<Figure size 432x288 with 1 Axes>"
      ]
     },
     "metadata": {
      "needs_background": "light"
     },
     "output_type": "display_data"
    }
   ],
   "source": [
    "# Use the linear regression model to predict y-values by giving the x-values in the test set\n",
    "y_pred = lm.predict(X_test)\n",
    "\n",
    "# Convert y_test (which is a Series) into an n-dimensional array (ndarray)\n",
    "y_actual = y_test.to_numpy()\n",
    "    \n",
    "# Show scatterplot of actual values (x-axis) vs predicted values (y-axis)\n",
    "plt.scatter(y_test,y_pred)"
   ]
  },
  {
   "cell_type": "markdown",
   "id": "ddc7f44d",
   "metadata": {},
   "source": [
    "### Conclusion\n",
    "There is a relationship seen on the scatter plot but it is somewhat far from y=x, ultimate, better data and more parameters would be needed to try for a more accurate model"
   ]
  },
  {
   "cell_type": "markdown",
   "id": "daca8062",
   "metadata": {},
   "source": [
    "## Synthetic Data Generation\n",
    "This is a demonstration of using Faker to generate the synthetic data. The data.csv is generated with something similar to the codes below. The data was fixed more after this iteration but I lost that faker code. So here is a demonstration. \n",
    "\n",
    "To explain the code, I was trying to create a data set with multiple independent variables. I initially settled on day, time, weather and gender. Due to the randomness, gender is difficult to fit for an FnB situation and I was not able to fit it in, thus it was omitted. Time was useful, but I did not have the capacity to create an elaborate sequence to make good time data. I therefore settled on day and weather. Giving more records to Weekends and making sales go up during colder weather, since it was a soup base dish.\n",
    "\n",
    "This created a relationship but the data that was slightly biased. Given more time, I would be able make a better set of fake data that has more independent variables and less skew."
   ]
  },
  {
   "cell_type": "code",
   "execution_count": null,
   "id": "41962347",
   "metadata": {},
   "outputs": [],
   "source": [
    "from faker import Faker\n",
    "from random import randint\n",
    "import os\n",
    "import pandas as pd\n",
    "import datetime\n",
    "import requests\n",
    "import json\n",
    "import pandas as pd\n",
    "import numpy as np\n",
    "import seaborn as sns\n",
    "import matplotlib.pyplot as plt\n",
    "%matplotlib inline\n",
    "from sklearn.model_selection import train_test_split\n",
    "from sklearn.linear_model import LinearRegression\n",
    "\n",
    "fake = Faker()\n",
    "\n",
    "df = pd.DataFrame()\n",
    "\n",
    "for i in range(150):\n",
    "    df.loc[i,'id']= randint(1, 100)\n",
    "    df.loc[i,'name']= fake.name()\n",
    "    #0 is very hot, 5 is very cold\n",
    "    weather = randint(0, 5)\n",
    "    df.loc[i,'weather']= weather\n",
    "    # biasing food sales by the weather\n",
    "    food = randint(weather, weather+1)\n",
    "    df.loc[i,'ramen']= food\n",
    "    df.loc[i,'drinks']= food\n",
    "    df.loc[i,'day']=randint(0, 6)\n",
    "    \n",
    "for i in range(150,500):\n",
    "    df.loc[i,'id']= randint(1, 100)\n",
    "    df.loc[i,'name']= fake.name()\n",
    "    #0 is very hot, 5 is very cold\n",
    "    weather = randint(0, 5)\n",
    "    df.loc[i,'weather']= weather\n",
    "    # biasing food sales by the weather\n",
    "    food = randint(weather+3, weather+4)\n",
    "    df.loc[i,'ramen']= food\n",
    "    df.loc[i,'drinks']= food\n",
    "    df.loc[i,'day']= randint(5, 7)\n"
   ]
  }
 ],
 "metadata": {
  "colab": {
   "provenance": []
  },
  "kernelspec": {
   "display_name": "Python 3 (ipykernel)",
   "language": "python",
   "name": "python3"
  },
  "language_info": {
   "codemirror_mode": {
    "name": "ipython",
    "version": 3
   },
   "file_extension": ".py",
   "mimetype": "text/x-python",
   "name": "python",
   "nbconvert_exporter": "python",
   "pygments_lexer": "ipython3",
   "version": "3.9.12"
  }
 },
 "nbformat": 4,
 "nbformat_minor": 5
}
