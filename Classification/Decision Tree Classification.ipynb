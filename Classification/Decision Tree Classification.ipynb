{
 "cells": [
  {
   "cell_type": "markdown",
   "id": "a2222076",
   "metadata": {
    "executionInfo": {
     "elapsed": 10,
     "status": "ok",
     "timestamp": 1680111676585,
     "user": {
      "displayName": "Ong Zi Jian",
      "userId": "11086065083449708036"
     },
     "user_tz": -480
    },
    "id": "46cf5d5f"
   },
   "source": [
    "## Decision Tree Classification\n",
    "This is an example of a decision tree classifier that I created using doctor data I got from Kaggle. The data is provided by PABLO M. GÓMEZ on Kaggle. I do not own any part of the dataset and all credit goes to the owner.\n",
    "\n",
    "Source: https://www.kaggle.com/datasets/pablomgomez21/drugs-a-b-c-x-y-for-decision-trees"
   ]
  },
  {
   "cell_type": "code",
   "execution_count": null,
   "id": "32285e98",
   "metadata": {},
   "outputs": [],
   "source": [
    "import pandas as pd\n",
    "import numpy as np\n",
    "import matplotlib.pyplot as plt\n",
    "import seaborn as sns"
   ]
  },
  {
   "cell_type": "code",
   "execution_count": 3,
   "id": "nxeASIA6Wm_P",
   "metadata": {
    "colab": {
     "base_uri": "https://localhost:8080/",
     "height": 206
    },
    "executionInfo": {
     "elapsed": 779,
     "status": "ok",
     "timestamp": 1680110200065,
     "user": {
      "displayName": "Ong Zi Jian",
      "userId": "11086065083449708036"
     },
     "user_tz": -480
    },
    "id": "nxeASIA6Wm_P",
    "outputId": "9195f31b-c604-41a2-f2f2-21682c224494"
   },
   "outputs": [
    {
     "data": {
      "text/html": [
       "<div>\n",
       "<style scoped>\n",
       "    .dataframe tbody tr th:only-of-type {\n",
       "        vertical-align: middle;\n",
       "    }\n",
       "\n",
       "    .dataframe tbody tr th {\n",
       "        vertical-align: top;\n",
       "    }\n",
       "\n",
       "    .dataframe thead th {\n",
       "        text-align: right;\n",
       "    }\n",
       "</style>\n",
       "<table border=\"1\" class=\"dataframe\">\n",
       "  <thead>\n",
       "    <tr style=\"text-align: right;\">\n",
       "      <th></th>\n",
       "      <th>Age</th>\n",
       "      <th>Sex</th>\n",
       "      <th>BP</th>\n",
       "      <th>Cholesterol</th>\n",
       "      <th>Na_to_K</th>\n",
       "      <th>Drug</th>\n",
       "    </tr>\n",
       "  </thead>\n",
       "  <tbody>\n",
       "    <tr>\n",
       "      <th>0</th>\n",
       "      <td>23</td>\n",
       "      <td>F</td>\n",
       "      <td>HIGH</td>\n",
       "      <td>HIGH</td>\n",
       "      <td>25.355</td>\n",
       "      <td>drugY</td>\n",
       "    </tr>\n",
       "    <tr>\n",
       "      <th>1</th>\n",
       "      <td>47</td>\n",
       "      <td>M</td>\n",
       "      <td>LOW</td>\n",
       "      <td>HIGH</td>\n",
       "      <td>13.093</td>\n",
       "      <td>drugC</td>\n",
       "    </tr>\n",
       "    <tr>\n",
       "      <th>2</th>\n",
       "      <td>47</td>\n",
       "      <td>M</td>\n",
       "      <td>LOW</td>\n",
       "      <td>HIGH</td>\n",
       "      <td>10.114</td>\n",
       "      <td>drugC</td>\n",
       "    </tr>\n",
       "    <tr>\n",
       "      <th>3</th>\n",
       "      <td>28</td>\n",
       "      <td>F</td>\n",
       "      <td>NORMAL</td>\n",
       "      <td>HIGH</td>\n",
       "      <td>7.798</td>\n",
       "      <td>drugX</td>\n",
       "    </tr>\n",
       "    <tr>\n",
       "      <th>4</th>\n",
       "      <td>61</td>\n",
       "      <td>F</td>\n",
       "      <td>LOW</td>\n",
       "      <td>HIGH</td>\n",
       "      <td>18.043</td>\n",
       "      <td>drugY</td>\n",
       "    </tr>\n",
       "  </tbody>\n",
       "</table>\n",
       "</div>"
      ],
      "text/plain": [
       "   Age Sex      BP Cholesterol  Na_to_K   Drug\n",
       "0   23   F    HIGH        HIGH   25.355  drugY\n",
       "1   47   M     LOW        HIGH   13.093  drugC\n",
       "2   47   M     LOW        HIGH   10.114  drugC\n",
       "3   28   F  NORMAL        HIGH    7.798  drugX\n",
       "4   61   F     LOW        HIGH   18.043  drugY"
      ]
     },
     "execution_count": 3,
     "metadata": {},
     "output_type": "execute_result"
    }
   ],
   "source": [
    "df =pd.read_csv(\"drug200.csv\")\n",
    "df.head()"
   ]
  },
  {
   "cell_type": "code",
   "execution_count": 9,
   "id": "MfwsKr-HXM6R",
   "metadata": {
    "colab": {
     "base_uri": "https://localhost:8080/"
    },
    "executionInfo": {
     "elapsed": 14,
     "status": "ok",
     "timestamp": 1680111225043,
     "user": {
      "displayName": "Ong Zi Jian",
      "userId": "11086065083449708036"
     },
     "user_tz": -480
    },
    "id": "MfwsKr-HXM6R",
    "outputId": "8fe9b004-67b8-4f21-e216-580ab9196a92"
   },
   "outputs": [
    {
     "data": {
      "text/plain": [
       "array(['HIGH', 'LOW', 'NORMAL'], dtype=object)"
      ]
     },
     "execution_count": 9,
     "metadata": {},
     "output_type": "execute_result"
    }
   ],
   "source": [
    "df[\"BP\"].unique()"
   ]
  },
  {
   "cell_type": "code",
   "execution_count": 26,
   "id": "gkjuTcaOW_Z0",
   "metadata": {
    "colab": {
     "base_uri": "https://localhost:8080/"
    },
    "executionInfo": {
     "elapsed": 12,
     "status": "ok",
     "timestamp": 1680110279768,
     "user": {
      "displayName": "Ong Zi Jian",
      "userId": "11086065083449708036"
     },
     "user_tz": -480
    },
    "id": "gkjuTcaOW_Z0",
    "outputId": "c11a5668-84ee-4c68-c302-e86aae203015"
   },
   "outputs": [
    {
     "data": {
      "text/plain": [
       "array(['drugY', 'drugC', 'drugX', 'drugA', 'drugB'], dtype=object)"
      ]
     },
     "execution_count": 26,
     "metadata": {},
     "output_type": "execute_result"
    }
   ],
   "source": [
    "df[\"Drug\"].unique()\n",
    "#df[\"Drug\"].value_counts()"
   ]
  },
  {
   "cell_type": "markdown",
   "id": "0e0c3491",
   "metadata": {},
   "source": [
    "Here, we are trying to plot the scatter plot to find the best pairs for the initial roots. The 2 pairs that we found that had semblence of cluster groups is [\"Na_to_K\" , \"Age\"] and [\"Sex\", \"BP\"]."
   ]
  },
  {
   "cell_type": "code",
   "execution_count": 6,
   "id": "vtltN8EbX_-r",
   "metadata": {
    "colab": {
     "base_uri": "https://localhost:8080/",
     "height": 466
    },
    "executionInfo": {
     "elapsed": 25,
     "status": "ok",
     "timestamp": 1680110771461,
     "user": {
      "displayName": "Ong Zi Jian",
      "userId": "11086065083449708036"
     },
     "user_tz": -480
    },
    "id": "vtltN8EbX_-r",
    "outputId": "e241492b-5504-4b2b-849f-9c7adb23d451"
   },
   "outputs": [
    {
     "data": {
      "text/plain": [
       "<AxesSubplot:xlabel='Na_to_K', ylabel='Age'>"
      ]
     },
     "execution_count": 6,
     "metadata": {},
     "output_type": "execute_result"
    },
    {
     "data": {
      "image/png": "[encoded data removed]",
      "text/plain": [
       "<Figure size 432x288 with 1 Axes>"
      ]
     },
     "metadata": {
      "needs_background": "light"
     },
     "output_type": "display_data"
    }
   ],
   "source": [
    "sns.scatterplot(x=df['Na_to_K'], y=df[\"Age\"], hue=df[\"Drug\"], s=50)"
   ]
  },
  {
   "cell_type": "code",
   "execution_count": 7,
   "id": "cKiIn2XvYw28",
   "metadata": {
    "colab": {
     "base_uri": "https://localhost:8080/",
     "height": 466
    },
    "executionInfo": {
     "elapsed": 1449,
     "status": "ok",
     "timestamp": 1680110851523,
     "user": {
      "displayName": "Ong Zi Jian",
      "userId": "11086065083449708036"
     },
     "user_tz": -480
    },
    "id": "cKiIn2XvYw28",
    "outputId": "264e51fa-ea6f-416b-9530-19fdc05737d3"
   },
   "outputs": [
    {
     "data": {
      "text/plain": [
       "<AxesSubplot:xlabel='Sex', ylabel='BP'>"
      ]
     },
     "execution_count": 7,
     "metadata": {},
     "output_type": "execute_result"
    },
    {
     "data": {
      "image/png": "[encoded data removed]",
      "text/plain": [
       "<Figure size 432x288 with 1 Axes>"
      ]
     },
     "metadata": {
      "needs_background": "light"
     },
     "output_type": "display_data"
    }
   ],
   "source": [
    "#\tAge\tSex\tBP\tCholesterol\tNa_to_K\tDrug\n",
    "sns.scatterplot(x=df['Sex'], y=df[\"BP\"], hue=df[\"Drug\"], s=50)"
   ]
  },
  {
   "cell_type": "code",
   "execution_count": 34,
   "id": "Lg7UtsynaE1b",
   "metadata": {
    "colab": {
     "base_uri": "https://localhost:8080/",
     "height": 466
    },
    "executionInfo": {
     "elapsed": 461,
     "status": "ok",
     "timestamp": 1680110891631,
     "user": {
      "displayName": "Ong Zi Jian",
      "userId": "11086065083449708036"
     },
     "user_tz": -480
    },
    "id": "Lg7UtsynaE1b",
    "outputId": "c4e0db79-4153-42fb-b5bd-59bf2b940fe9"
   },
   "outputs": [
    {
     "data": {
      "text/plain": [
       "<Axes: xlabel='Sex', ylabel='Na_to_K'>"
      ]
     },
     "execution_count": 34,
     "metadata": {},
     "output_type": "execute_result"
    },
    {
     "data": {
      "image/png": "[encoded data removed]",
      "text/plain": [
       "<Figure size 640x480 with 1 Axes>"
      ]
     },
     "metadata": {},
     "output_type": "display_data"
    }
   ],
   "source": [
    "#\tAge\tSex\tBP\tCholesterol\tNa_to_K\tDrug\n",
    "sns.scatterplot(x=df['Sex'], y=df[\"Na_to_K\"], hue=df[\"Drug\"], s=50)"
   ]
  },
  {
   "cell_type": "markdown",
   "id": "96e04982",
   "metadata": {},
   "source": [
    "### Converting string data to numeric data"
   ]
  },
  {
   "cell_type": "code",
   "execution_count": 8,
   "id": "rKEzSuzCb2Id",
   "metadata": {
    "colab": {
     "base_uri": "https://localhost:8080/",
     "height": 130
    },
    "executionInfo": {
     "elapsed": 20,
     "status": "error",
     "timestamp": 1680111682700,
     "user": {
      "displayName": "Ong Zi Jian",
      "userId": "11086065083449708036"
     },
     "user_tz": -480
    },
    "id": "rKEzSuzCb2Id",
    "outputId": "40ca537e-8d1d-495a-e383-43a523a17b62"
   },
   "outputs": [
    {
     "data": {
      "text/html": [
       "<div>\n",
       "<style scoped>\n",
       "    .dataframe tbody tr th:only-of-type {\n",
       "        vertical-align: middle;\n",
       "    }\n",
       "\n",
       "    .dataframe tbody tr th {\n",
       "        vertical-align: top;\n",
       "    }\n",
       "\n",
       "    .dataframe thead th {\n",
       "        text-align: right;\n",
       "    }\n",
       "</style>\n",
       "<table border=\"1\" class=\"dataframe\">\n",
       "  <thead>\n",
       "    <tr style=\"text-align: right;\">\n",
       "      <th></th>\n",
       "      <th>Age</th>\n",
       "      <th>Sex</th>\n",
       "      <th>BP</th>\n",
       "      <th>Cholesterol</th>\n",
       "      <th>Na_to_K</th>\n",
       "      <th>Drug</th>\n",
       "      <th>Sex_New</th>\n",
       "    </tr>\n",
       "  </thead>\n",
       "  <tbody>\n",
       "    <tr>\n",
       "      <th>0</th>\n",
       "      <td>23</td>\n",
       "      <td>F</td>\n",
       "      <td>HIGH</td>\n",
       "      <td>HIGH</td>\n",
       "      <td>25.355</td>\n",
       "      <td>drugY</td>\n",
       "      <td>0</td>\n",
       "    </tr>\n",
       "    <tr>\n",
       "      <th>1</th>\n",
       "      <td>47</td>\n",
       "      <td>M</td>\n",
       "      <td>LOW</td>\n",
       "      <td>HIGH</td>\n",
       "      <td>13.093</td>\n",
       "      <td>drugC</td>\n",
       "      <td>1</td>\n",
       "    </tr>\n",
       "    <tr>\n",
       "      <th>2</th>\n",
       "      <td>47</td>\n",
       "      <td>M</td>\n",
       "      <td>LOW</td>\n",
       "      <td>HIGH</td>\n",
       "      <td>10.114</td>\n",
       "      <td>drugC</td>\n",
       "      <td>1</td>\n",
       "    </tr>\n",
       "    <tr>\n",
       "      <th>3</th>\n",
       "      <td>28</td>\n",
       "      <td>F</td>\n",
       "      <td>NORMAL</td>\n",
       "      <td>HIGH</td>\n",
       "      <td>7.798</td>\n",
       "      <td>drugX</td>\n",
       "      <td>0</td>\n",
       "    </tr>\n",
       "    <tr>\n",
       "      <th>4</th>\n",
       "      <td>61</td>\n",
       "      <td>F</td>\n",
       "      <td>LOW</td>\n",
       "      <td>HIGH</td>\n",
       "      <td>18.043</td>\n",
       "      <td>drugY</td>\n",
       "      <td>0</td>\n",
       "    </tr>\n",
       "  </tbody>\n",
       "</table>\n",
       "</div>"
      ],
      "text/plain": [
       "   Age Sex      BP Cholesterol  Na_to_K   Drug  Sex_New\n",
       "0   23   F    HIGH        HIGH   25.355  drugY        0\n",
       "1   47   M     LOW        HIGH   13.093  drugC        1\n",
       "2   47   M     LOW        HIGH   10.114  drugC        1\n",
       "3   28   F  NORMAL        HIGH    7.798  drugX        0\n",
       "4   61   F     LOW        HIGH   18.043  drugY        0"
      ]
     },
     "execution_count": 8,
     "metadata": {},
     "output_type": "execute_result"
    }
   ],
   "source": [
    "df[\"Sex_New\"] = df['Sex'].apply(lambda x:1 if x == \"M\" else 0)\n",
    "df.head()"
   ]
  },
  {
   "cell_type": "code",
   "execution_count": 10,
   "id": "94df3908",
   "metadata": {},
   "outputs": [
    {
     "data": {
      "text/html": [
       "<div>\n",
       "<style scoped>\n",
       "    .dataframe tbody tr th:only-of-type {\n",
       "        vertical-align: middle;\n",
       "    }\n",
       "\n",
       "    .dataframe tbody tr th {\n",
       "        vertical-align: top;\n",
       "    }\n",
       "\n",
       "    .dataframe thead th {\n",
       "        text-align: right;\n",
       "    }\n",
       "</style>\n",
       "<table border=\"1\" class=\"dataframe\">\n",
       "  <thead>\n",
       "    <tr style=\"text-align: right;\">\n",
       "      <th></th>\n",
       "      <th>Age</th>\n",
       "      <th>Sex</th>\n",
       "      <th>BP</th>\n",
       "      <th>Cholesterol</th>\n",
       "      <th>Na_to_K</th>\n",
       "      <th>Drug</th>\n",
       "      <th>Sex_New</th>\n",
       "      <th>Cholesterol_New</th>\n",
       "      <th>BP_New</th>\n",
       "    </tr>\n",
       "  </thead>\n",
       "  <tbody>\n",
       "    <tr>\n",
       "      <th>0</th>\n",
       "      <td>23</td>\n",
       "      <td>F</td>\n",
       "      <td>HIGH</td>\n",
       "      <td>HIGH</td>\n",
       "      <td>25.355</td>\n",
       "      <td>drugY</td>\n",
       "      <td>0</td>\n",
       "      <td>1</td>\n",
       "      <td>1</td>\n",
       "    </tr>\n",
       "    <tr>\n",
       "      <th>1</th>\n",
       "      <td>47</td>\n",
       "      <td>M</td>\n",
       "      <td>LOW</td>\n",
       "      <td>HIGH</td>\n",
       "      <td>13.093</td>\n",
       "      <td>drugC</td>\n",
       "      <td>1</td>\n",
       "      <td>1</td>\n",
       "      <td>-1</td>\n",
       "    </tr>\n",
       "    <tr>\n",
       "      <th>2</th>\n",
       "      <td>47</td>\n",
       "      <td>M</td>\n",
       "      <td>LOW</td>\n",
       "      <td>HIGH</td>\n",
       "      <td>10.114</td>\n",
       "      <td>drugC</td>\n",
       "      <td>1</td>\n",
       "      <td>1</td>\n",
       "      <td>-1</td>\n",
       "    </tr>\n",
       "    <tr>\n",
       "      <th>3</th>\n",
       "      <td>28</td>\n",
       "      <td>F</td>\n",
       "      <td>NORMAL</td>\n",
       "      <td>HIGH</td>\n",
       "      <td>7.798</td>\n",
       "      <td>drugX</td>\n",
       "      <td>0</td>\n",
       "      <td>1</td>\n",
       "      <td>0</td>\n",
       "    </tr>\n",
       "    <tr>\n",
       "      <th>4</th>\n",
       "      <td>61</td>\n",
       "      <td>F</td>\n",
       "      <td>LOW</td>\n",
       "      <td>HIGH</td>\n",
       "      <td>18.043</td>\n",
       "      <td>drugY</td>\n",
       "      <td>0</td>\n",
       "      <td>1</td>\n",
       "      <td>-1</td>\n",
       "    </tr>\n",
       "  </tbody>\n",
       "</table>\n",
       "</div>"
      ],
      "text/plain": [
       "   Age Sex      BP Cholesterol  Na_to_K   Drug  Sex_New  Cholesterol_New  \\\n",
       "0   23   F    HIGH        HIGH   25.355  drugY        0                1   \n",
       "1   47   M     LOW        HIGH   13.093  drugC        1                1   \n",
       "2   47   M     LOW        HIGH   10.114  drugC        1                1   \n",
       "3   28   F  NORMAL        HIGH    7.798  drugX        0                1   \n",
       "4   61   F     LOW        HIGH   18.043  drugY        0                1   \n",
       "\n",
       "   BP_New  \n",
       "0       1  \n",
       "1      -1  \n",
       "2      -1  \n",
       "3       0  \n",
       "4      -1  "
      ]
     },
     "execution_count": 10,
     "metadata": {},
     "output_type": "execute_result"
    }
   ],
   "source": [
    "df[\"Cholesterol_New\"] = df['Cholesterol'].apply(lambda x:1 if x == \"HIGH\" else 0)\n",
    "df[\"BP_New\"] = df['BP'].apply(lambda x: 1 if x == \"HIGH\" else (0 if x == \"NORMAL\" else -1))\n",
    "df.head()"
   ]
  },
  {
   "cell_type": "code",
   "execution_count": 19,
   "id": "fce48c64",
   "metadata": {},
   "outputs": [
    {
     "data": {
      "text/plain": [
       "Age                  int64\n",
       "Sex                 object\n",
       "BP                  object\n",
       "Cholesterol         object\n",
       "Na_to_K            float64\n",
       "Drug                object\n",
       "Sex_New              int64\n",
       "Cholesterol_New      int64\n",
       "BP_New               int64\n",
       "Na_to_K_New          int32\n",
       "dtype: object"
      ]
     },
     "execution_count": 19,
     "metadata": {},
     "output_type": "execute_result"
    }
   ],
   "source": [
    "df['Na_to_K_New'] = df['Na_to_K'].astype(int)\n",
    "df.dtypes"
   ]
  },
  {
   "cell_type": "markdown",
   "id": "503ea3fc",
   "metadata": {},
   "source": [
    "## Using the Classifier\n",
    "Here we use `DecisionTreeClassifier` to create the tree and make the prediction"
   ]
  },
  {
   "cell_type": "code",
   "execution_count": 15,
   "id": "94r-NqmuaXJJ",
   "metadata": {
    "executionInfo": {
     "elapsed": 8,
     "status": "ok",
     "timestamp": 1680110937809,
     "user": {
      "displayName": "Ong Zi Jian",
      "userId": "11086065083449708036"
     },
     "user_tz": -480
    },
    "id": "94r-NqmuaXJJ"
   },
   "outputs": [],
   "source": [
    "from sklearn.tree import DecisionTreeClassifier\n",
    "from sklearn.model_selection import train_test_split\n",
    "from sklearn.metrics import accuracy_score"
   ]
  },
  {
   "cell_type": "code",
   "execution_count": 20,
   "id": "fZd8SDpKamAZ",
   "metadata": {
    "executionInfo": {
     "elapsed": 9,
     "status": "ok",
     "timestamp": 1680111040940,
     "user": {
      "displayName": "Ong Zi Jian",
      "userId": "11086065083449708036"
     },
     "user_tz": -480
    },
    "id": "fZd8SDpKamAZ"
   },
   "outputs": [],
   "source": [
    "X = df[['Age','Sex_New','BP_New','Cholesterol_New','Na_to_K_New']]\n",
    "y = df['Drug']"
   ]
  },
  {
   "cell_type": "code",
   "execution_count": 21,
   "id": "-i1dU444a_OY",
   "metadata": {
    "executionInfo": {
     "elapsed": 8,
     "status": "ok",
     "timestamp": 1680111062535,
     "user": {
      "displayName": "Ong Zi Jian",
      "userId": "11086065083449708036"
     },
     "user_tz": -480
    },
    "id": "-i1dU444a_OY"
   },
   "outputs": [],
   "source": [
    "X_train, X_test, y_train, y_test = train_test_split(X, y, test_size = 0.2, \n",
    "                                                          stratify = y,\n",
    "                                                          random_state = 1)"
   ]
  },
  {
   "cell_type": "code",
   "execution_count": 22,
   "id": "7vAffJF3bJwy",
   "metadata": {
    "colab": {
     "base_uri": "https://localhost:8080/",
     "height": 328
    },
    "executionInfo": {
     "elapsed": 18,
     "status": "error",
     "timestamp": 1680111177815,
     "user": {
      "displayName": "Ong Zi Jian",
      "userId": "11086065083449708036"
     },
     "user_tz": -480
    },
    "id": "7vAffJF3bJwy",
    "outputId": "357527fe-b2c9-45de-9dc2-987095734910"
   },
   "outputs": [
    {
     "data": {
      "text/html": [
       "<style>#sk-container-id-1 {color: black;background-color: white;}#sk-container-id-1 pre{padding: 0;}#sk-container-id-1 div.sk-toggleable {background-color: white;}#sk-container-id-1 label.sk-toggleable__label {cursor: pointer;display: block;width: 100%;margin-bottom: 0;padding: 0.3em;box-sizing: border-box;text-align: center;}#sk-container-id-1 label.sk-toggleable__label-arrow:before {content: \"▸\";float: left;margin-right: 0.25em;color: #696969;}#sk-container-id-1 label.sk-toggleable__label-arrow:hover:before {color: black;}#sk-container-id-1 div.sk-estimator:hover label.sk-toggleable__label-arrow:before {color: black;}#sk-container-id-1 div.sk-toggleable__content {max-height: 0;max-width: 0;overflow: hidden;text-align: left;background-color: #f0f8ff;}#sk-container-id-1 div.sk-toggleable__content pre {margin: 0.2em;color: black;border-radius: 0.25em;background-color: #f0f8ff;}#sk-container-id-1 input.sk-toggleable__control:checked~div.sk-toggleable__content {max-height: 200px;max-width: 100%;overflow: auto;}#sk-container-id-1 input.sk-toggleable__control:checked~label.sk-toggleable__label-arrow:before {content: \"▾\";}#sk-container-id-1 div.sk-estimator input.sk-toggleable__control:checked~label.sk-toggleable__label {background-color: #d4ebff;}#sk-container-id-1 div.sk-label input.sk-toggleable__control:checked~label.sk-toggleable__label {background-color: #d4ebff;}#sk-container-id-1 input.sk-hidden--visually {border: 0;clip: rect(1px 1px 1px 1px);clip: rect(1px, 1px, 1px, 1px);height: 1px;margin: -1px;overflow: hidden;padding: 0;position: absolute;width: 1px;}#sk-container-id-1 div.sk-estimator {font-family: monospace;background-color: #f0f8ff;border: 1px dotted black;border-radius: 0.25em;box-sizing: border-box;margin-bottom: 0.5em;}#sk-container-id-1 div.sk-estimator:hover {background-color: #d4ebff;}#sk-container-id-1 div.sk-parallel-item::after {content: \"\";width: 100%;border-bottom: 1px solid gray;flex-grow: 1;}#sk-container-id-1 div.sk-label:hover label.sk-toggleable__label {background-color: #d4ebff;}#sk-container-id-1 div.sk-serial::before {content: \"\";position: absolute;border-left: 1px solid gray;box-sizing: border-box;top: 0;bottom: 0;left: 50%;z-index: 0;}#sk-container-id-1 div.sk-serial {display: flex;flex-direction: column;align-items: center;background-color: white;padding-right: 0.2em;padding-left: 0.2em;position: relative;}#sk-container-id-1 div.sk-item {position: relative;z-index: 1;}#sk-container-id-1 div.sk-parallel {display: flex;align-items: stretch;justify-content: center;background-color: white;position: relative;}#sk-container-id-1 div.sk-item::before, #sk-container-id-1 div.sk-parallel-item::before {content: \"\";position: absolute;border-left: 1px solid gray;box-sizing: border-box;top: 0;bottom: 0;left: 50%;z-index: -1;}#sk-container-id-1 div.sk-parallel-item {display: flex;flex-direction: column;z-index: 1;position: relative;background-color: white;}#sk-container-id-1 div.sk-parallel-item:first-child::after {align-self: flex-end;width: 50%;}#sk-container-id-1 div.sk-parallel-item:last-child::after {align-self: flex-start;width: 50%;}#sk-container-id-1 div.sk-parallel-item:only-child::after {width: 0;}#sk-container-id-1 div.sk-dashed-wrapped {border: 1px dashed gray;margin: 0 0.4em 0.5em 0.4em;box-sizing: border-box;padding-bottom: 0.4em;background-color: white;}#sk-container-id-1 div.sk-label label {font-family: monospace;font-weight: bold;display: inline-block;line-height: 1.2em;}#sk-container-id-1 div.sk-label-container {text-align: center;}#sk-container-id-1 div.sk-container {/* jupyter's `normalize.less` sets `[hidden] { display: none; }` but bootstrap.min.css set `[hidden] { display: none !important; }` so we also need the `!important` here to be able to override the default hidden behavior on the sphinx rendered scikit-learn.org. See: https://github.com/scikit-learn/scikit-learn/issues/21755 */display: inline-block !important;position: relative;}#sk-container-id-1 div.sk-text-repr-fallback {display: none;}</style><div id=\"sk-container-id-1\" class=\"sk-top-container\"><div class=\"sk-text-repr-fallback\"><pre>DecisionTreeClassifier(criterion=&#x27;entropy&#x27;, max_depth=3, random_state=1)</pre><b>In a Jupyter environment, please rerun this cell to show the HTML representation or trust the notebook. <br />On GitHub, the HTML representation is unable to render, please try loading this page with nbviewer.org.</b></div><div class=\"sk-container\" hidden><div class=\"sk-item\"><div class=\"sk-estimator sk-toggleable\"><input class=\"sk-toggleable__control sk-hidden--visually\" id=\"sk-estimator-id-1\" type=\"checkbox\" checked><label for=\"sk-estimator-id-1\" class=\"sk-toggleable__label sk-toggleable__label-arrow\">DecisionTreeClassifier</label><div class=\"sk-toggleable__content\"><pre>DecisionTreeClassifier(criterion=&#x27;entropy&#x27;, max_depth=3, random_state=1)</pre></div></div></div></div></div>"
      ],
      "text/plain": [
       "DecisionTreeClassifier(criterion='entropy', max_depth=3, random_state=1)"
      ]
     },
     "execution_count": 22,
     "metadata": {},
     "output_type": "execute_result"
    }
   ],
   "source": [
    "dt = DecisionTreeClassifier(criterion = 'entropy', max_depth = 3, random_state = 1)\n",
    "dt.fit(X_train, y_train) "
   ]
  },
  {
   "cell_type": "code",
   "execution_count": 23,
   "id": "nz7FOmX3bWTJ",
   "metadata": {
    "id": "nz7FOmX3bWTJ"
   },
   "outputs": [
    {
     "data": {
      "text/plain": [
       "array(['drugY', 'drugA', 'drugB', 'drugX', 'drugY', 'drugY', 'drugB',\n",
       "       'drugY', 'drugA', 'drugY', 'drugX', 'drugX', 'drugY', 'drugY',\n",
       "       'drugA', 'drugX', 'drugX', 'drugX', 'drugA', 'drugY', 'drugX',\n",
       "       'drugX', 'drugX', 'drugX', 'drugX', 'drugY', 'drugY', 'drugY',\n",
       "       'drugY', 'drugY', 'drugX', 'drugX', 'drugY', 'drugY', 'drugA',\n",
       "       'drugY', 'drugY', 'drugY', 'drugX', 'drugB'], dtype=object)"
      ]
     },
     "execution_count": 23,
     "metadata": {},
     "output_type": "execute_result"
    }
   ],
   "source": [
    "y_pred = dt.predict(X_test)\n",
    "y_pred"
   ]
  },
  {
   "cell_type": "markdown",
   "id": "831b628a",
   "metadata": {},
   "source": [
    "## Visualise"
   ]
  },
  {
   "cell_type": "code",
   "execution_count": 24,
   "id": "ea562a09",
   "metadata": {},
   "outputs": [
    {
     "data": {
      "image/png": "[encoded data removed]",
      "text/plain": [
       "<IPython.core.display.Image object>"
      ]
     },
     "execution_count": 24,
     "metadata": {},
     "output_type": "execute_result"
    }
   ],
   "source": [
    "# Import libraries to visualize DT\n",
    "from sklearn.tree import export_graphviz\n",
    "import pydotplus\n",
    "from six import StringIO \n",
    "from IPython.display import Image\n",
    "\n",
    "# Names of features (independent variables)\n",
    "feature_cols = ['Age','Sex_New','BP_New','Cholesterol_New','Na_to_K_New']\n",
    "\n",
    "# Generate the visualization of the DT, and write into the file 'irisTree.png'\n",
    "dot_data = StringIO()\n",
    "export_graphviz(dt, out_file = dot_data, \n",
    "                    feature_names = feature_cols,  \n",
    "                    filled = True, rounded = True,  \n",
    "                    special_characters = True)\n",
    "graph = pydotplus.graph_from_dot_data(dot_data.getvalue())\n",
    "graph.write_png('irisTree.png') \n",
    "Image(graph.create_png())"
   ]
  },
  {
   "cell_type": "markdown",
   "id": "9799a2ce",
   "metadata": {},
   "source": [
    "## Finding the Accuracy"
   ]
  },
  {
   "cell_type": "code",
   "execution_count": 25,
   "id": "b001853c",
   "metadata": {},
   "outputs": [
    {
     "data": {
      "text/plain": [
       "0.92"
      ]
     },
     "execution_count": 25,
     "metadata": {},
     "output_type": "execute_result"
    }
   ],
   "source": [
    "accuracy = accuracy_score(y_test, y_pred)\n",
    "round(accuracy,2)"
   ]
  },
  {
   "cell_type": "markdown",
   "id": "89837e48",
   "metadata": {},
   "source": [
    "The accuracy is not too bad, at 92%. We will be evaluating the model more in-depth and using the confusion matrix"
   ]
  },
  {
   "cell_type": "code",
   "execution_count": 27,
   "id": "a7a0f589",
   "metadata": {},
   "outputs": [
    {
     "name": "stdout",
     "output_type": "stream",
     "text": [
      "[[18  0  0  0  0]\n",
      " [ 0  0  3  0  0]\n",
      " [ 0  0 11  0  0]\n",
      " [ 0  0  0  5  0]\n",
      " [ 0  0  0  0  3]]\n"
     ]
    }
   ],
   "source": [
    "# Import library to show confusion matrix\n",
    "from sklearn.metrics import confusion_matrix\n",
    "\n",
    "# Generate confusion matrix\n",
    "cnf_matrix = confusion_matrix(y_test, y_pred, labels = ['drugY', 'drugC', 'drugX', 'drugA', 'drugB'])\n",
    "print(cnf_matrix)"
   ]
  },
  {
   "cell_type": "code",
   "execution_count": 28,
   "id": "05d064fe",
   "metadata": {},
   "outputs": [
    {
     "data": {
      "text/html": [
       "<div>\n",
       "<style scoped>\n",
       "    .dataframe tbody tr th:only-of-type {\n",
       "        vertical-align: middle;\n",
       "    }\n",
       "\n",
       "    .dataframe tbody tr th {\n",
       "        vertical-align: top;\n",
       "    }\n",
       "\n",
       "    .dataframe thead th {\n",
       "        text-align: right;\n",
       "    }\n",
       "</style>\n",
       "<table border=\"1\" class=\"dataframe\">\n",
       "  <thead>\n",
       "    <tr style=\"text-align: right;\">\n",
       "      <th></th>\n",
       "      <th>drugY</th>\n",
       "      <th>drugC</th>\n",
       "      <th>drugX</th>\n",
       "      <th>drugA</th>\n",
       "      <th>drugB</th>\n",
       "    </tr>\n",
       "  </thead>\n",
       "  <tbody>\n",
       "    <tr>\n",
       "      <th>drugY_Act</th>\n",
       "      <td>18</td>\n",
       "      <td>0</td>\n",
       "      <td>0</td>\n",
       "      <td>0</td>\n",
       "      <td>0</td>\n",
       "    </tr>\n",
       "    <tr>\n",
       "      <th>drugC_Act</th>\n",
       "      <td>0</td>\n",
       "      <td>0</td>\n",
       "      <td>3</td>\n",
       "      <td>0</td>\n",
       "      <td>0</td>\n",
       "    </tr>\n",
       "    <tr>\n",
       "      <th>drugX_Act</th>\n",
       "      <td>0</td>\n",
       "      <td>0</td>\n",
       "      <td>11</td>\n",
       "      <td>0</td>\n",
       "      <td>0</td>\n",
       "    </tr>\n",
       "    <tr>\n",
       "      <th>drugA-Act</th>\n",
       "      <td>0</td>\n",
       "      <td>0</td>\n",
       "      <td>0</td>\n",
       "      <td>5</td>\n",
       "      <td>0</td>\n",
       "    </tr>\n",
       "    <tr>\n",
       "      <th>drugB_Act</th>\n",
       "      <td>0</td>\n",
       "      <td>0</td>\n",
       "      <td>0</td>\n",
       "      <td>0</td>\n",
       "      <td>3</td>\n",
       "    </tr>\n",
       "  </tbody>\n",
       "</table>\n",
       "</div>"
      ],
      "text/plain": [
       "           drugY  drugC  drugX  drugA  drugB\n",
       "drugY_Act     18      0      0      0      0\n",
       "drugC_Act      0      0      3      0      0\n",
       "drugX_Act      0      0     11      0      0\n",
       "drugA-Act      0      0      0      5      0\n",
       "drugB_Act      0      0      0      0      3"
      ]
     },
     "execution_count": 28,
     "metadata": {},
     "output_type": "execute_result"
    }
   ],
   "source": [
    "confusion_test_df = pd.DataFrame(cnf_matrix, columns = ['drugY', 'drugC', 'drugX', 'drugA', 'drugB']\\\n",
    "                      , index =  ['drugY_Act', 'drugC_Act', 'drugX_Act', 'drugA-Act', 'drugB_Act'])\n",
    "confusion_test_df"
   ]
  },
  {
   "cell_type": "markdown",
   "id": "8ae1115e",
   "metadata": {},
   "source": [
    "From the confusion matrix, we can see that most of the inputs were correctly predicted, however, certain inaccuracies were present. For Example, there were 3 predicted drugX but was actually drugC."
   ]
  },
  {
   "cell_type": "markdown",
   "id": "cdc7ee92",
   "metadata": {},
   "source": [
    "## Printing the Classification"
   ]
  },
  {
   "cell_type": "code",
   "execution_count": 30,
   "id": "9785c1a9",
   "metadata": {},
   "outputs": [
    {
     "name": "stdout",
     "output_type": "stream",
     "text": [
      "              precision    recall  f1-score   support\n",
      "\n",
      "       drugY       1.00      1.00      1.00         5\n",
      "       drugC       1.00      1.00      1.00         3\n",
      "       drugX       0.00      0.00      0.00         3\n",
      "       drugA       0.79      1.00      0.88        11\n",
      "       drugB       1.00      1.00      1.00        18\n",
      "\n",
      "    accuracy                           0.93        40\n",
      "   macro avg       0.76      0.80      0.78        40\n",
      "weighted avg       0.87      0.93      0.89        40\n",
      "\n"
     ]
    },
    {
     "name": "stderr",
     "output_type": "stream",
     "text": [
      "C:\\Users\\ozjbr\\anaconda3\\lib\\site-packages\\sklearn\\metrics\\_classification.py:1344: UndefinedMetricWarning: Precision and F-score are ill-defined and being set to 0.0 in labels with no predicted samples. Use `zero_division` parameter to control this behavior.\n",
      "  _warn_prf(average, modifier, msg_start, len(result))\n",
      "C:\\Users\\ozjbr\\anaconda3\\lib\\site-packages\\sklearn\\metrics\\_classification.py:1344: UndefinedMetricWarning: Precision and F-score are ill-defined and being set to 0.0 in labels with no predicted samples. Use `zero_division` parameter to control this behavior.\n",
      "  _warn_prf(average, modifier, msg_start, len(result))\n",
      "C:\\Users\\ozjbr\\anaconda3\\lib\\site-packages\\sklearn\\metrics\\_classification.py:1344: UndefinedMetricWarning: Precision and F-score are ill-defined and being set to 0.0 in labels with no predicted samples. Use `zero_division` parameter to control this behavior.\n",
      "  _warn_prf(average, modifier, msg_start, len(result))\n"
     ]
    }
   ],
   "source": [
    "# Import library to generate classification report\n",
    "from sklearn.metrics import classification_report\n",
    "\n",
    "# Get all possible values for the categorical variable 'class'\n",
    "class_labels = df['Drug'].unique()\n",
    "\n",
    "# Show classification report\n",
    "print(classification_report(y_test, y_pred, target_names=class_labels))"
   ]
  },
  {
   "cell_type": "markdown",
   "id": "93fddb93",
   "metadata": {},
   "source": [
    "## Variance Importance"
   ]
  },
  {
   "cell_type": "code",
   "execution_count": 31,
   "id": "df963538",
   "metadata": {},
   "outputs": [
    {
     "name": "stdout",
     "output_type": "stream",
     "text": [
      "[0.10592092 0.         0.33996986 0.         0.55410922]\n"
     ]
    }
   ],
   "source": [
    "# Show the GINI importance of each feature\n",
    "vi = dt.feature_importances_\n",
    "print(vi)"
   ]
  },
  {
   "cell_type": "markdown",
   "id": "2184321a",
   "metadata": {},
   "source": [
    "### GINI Coefficient\n",
    "\"The Gini coefficient measures the probability of misclassifying a randomly chosen element from the set. It ranges from 0 to 1, where a Gini coefficient of 0 indicates that the set is completely pure (all elements belong to the same class), while a Gini coefficient of 1 indicates that the set is completely impure (elements are evenly distributed across all classes).\" \n",
    "(Mr GPT)"
   ]
  },
  {
   "cell_type": "code",
   "execution_count": 32,
   "id": "f1d7aa91",
   "metadata": {},
   "outputs": [
    {
     "name": "stdout",
     "output_type": "stream",
     "text": [
      "Age   : 0.106\n",
      "Sex_New   : 0.0\n",
      "BP_New   : 0.34\n",
      "Cholesterol_New   : 0.0\n",
      "Na_to_K_New   : 0.554\n"
     ]
    }
   ],
   "source": [
    "# Show the GINI importance of each feature in an easier to read format\n",
    "n = len(feature_cols)\n",
    "for i in range(0,n):\n",
    "    print(feature_cols[i] + '   :',vi[i].round(3))"
   ]
  },
  {
   "cell_type": "markdown",
   "id": "12773b3b",
   "metadata": {},
   "source": [
    "From the coefficient, we can see that the impurities varies but \"Na_to_K_New\" and \"BP_New\" may not be the most desirable."
   ]
  },
  {
   "cell_type": "code",
   "execution_count": null,
   "id": "dabe8d34",
   "metadata": {},
   "outputs": [],
   "source": []
  }
 ],
 "metadata": {
  "accelerator": "GPU",
  "colab": {
   "provenance": []
  },
  "gpuClass": "standard",
  "kernelspec": {
   "display_name": "Python 3 (ipykernel)",
   "language": "python",
   "name": "python3"
  },
  "language_info": {
   "codemirror_mode": {
    "name": "ipython",
    "version": 3
   },
   "file_extension": ".py",
   "mimetype": "text/x-python",
   "name": "python",
   "nbconvert_exporter": "python",
   "pygments_lexer": "ipython3",
   "version": "3.9.12"
  }
 },
 "nbformat": 4,
 "nbformat_minor": 5
}
